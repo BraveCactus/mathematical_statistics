{
 "cells": [
  {
   "cell_type": "markdown",
   "metadata": {},
   "source": [
    "## При снятии показаний измерительного прибора десятые доли деления шкалы прибора оцениваются на глаз наблюдателем. Количества цифр 0, 1, 2, ... , 9, записанных наблюдателем в качестве десятых долей при 100 независимых измерениях, равны 5, 8, 6, 12, 14, 18, 11, 6, 13, 7 соответственно"
   ]
  },
  {
   "cell_type": "markdown",
   "metadata": {},
   "source": [
    "## а) Проверить гипотезу о согласии данных с законом равномерного распределения с помощью критерия хи-квадрат и с помощью критерия Колмогорова. Сравнить результаты."
   ]
  },
  {
   "cell_type": "markdown",
   "metadata": {},
   "source": [
    "### $H_0$ : Данные соответсвуют равномерному закону распределения\n",
    "### $H_1: \\overline H_0 $\n",
    "\n",
    "\n",
    "### Доверительный уровень Altha = 0.05"
   ]
  },
  {
   "cell_type": "code",
   "execution_count": 111,
   "metadata": {},
   "outputs": [],
   "source": [
    "import numpy as np\n",
    "import math"
   ]
  },
  {
   "cell_type": "code",
   "execution_count": 112,
   "metadata": {},
   "outputs": [
    {
     "name": "stdout",
     "output_type": "stream",
     "text": [
      "Delta = 1.4\n"
     ]
    }
   ],
   "source": [
    "n = 100\n",
    "N = 10000\n",
    "\n",
    "arr = np.array([5, 8, 6, 12, 14, 18, 11, 6, 13, 7])\n",
    "numbers = np.array([1 for i in range(10)])\n",
    "\n",
    "def emperic_F(data, n):\n",
    "    result = np.array([sum(data[:i]) for i in range(len(data)+1)]) / n\n",
    "    return result\n",
    "\n",
    "def theory_F(data, n):\n",
    "    result = np.array([sum(data[:i]) for i in range(len(data))]) / n\n",
    "    return result\n",
    "\n",
    "empF = emperic_F(arr, n)\n",
    "theoF = theory_F(numbers, 10)\n",
    "\n",
    "D = round(np.max([np.sqrt(n) * max(np.abs(theoF[i] - empF[i]),np.abs(theoF[i] - empF[i+1])) for i in range(empF.size - 1)]), 5)\n",
    "\n",
    "print(f\"Delta = {D}\")"
   ]
  },
  {
   "cell_type": "code",
   "execution_count": 113,
   "metadata": {},
   "outputs": [
    {
     "name": "stdout",
     "output_type": "stream",
     "text": [
      "p-value = 0.03968\n"
     ]
    }
   ],
   "source": [
    "def kolmogor_sum(x, N):\n",
    "    sum=1\n",
    "    for i in range(1, N):\n",
    "        sum += 2 * (-1) ** i * np.exp(-2*(i**2)*(x**2))\n",
    "    return sum\n",
    "\n",
    "p_value = round(1-kolmogor_sum(D, N), 5)\n",
    "print(f\"p-value = {p_value}\")"
   ]
  },
  {
   "cell_type": "markdown",
   "metadata": {},
   "source": [
    "### p_value < Altha => отвергаем гипотезу $H_0$\n",
    "### Вывод: По критерию хи-квадрат мы выяснили, что нет причин отвергать гипотезу $H_0$, но критерий Колмогорова отвергает ее, из-за того что нашел отклонения данных от равномерного распределения"
   ]
  },
  {
   "cell_type": "markdown",
   "metadata": {},
   "source": [
    "## б) Проверить гипотезу о согласии данных с законом нормального распределения с помощью критерия хи-квадрат и с помощью критерия Колмогорова. Сравнить результаты."
   ]
  }
 ],
 "metadata": {
  "kernelspec": {
   "display_name": "Python 3",
   "language": "python",
   "name": "python3"
  },
  "language_info": {
   "codemirror_mode": {
    "name": "ipython",
    "version": 3
   },
   "file_extension": ".py",
   "mimetype": "text/x-python",
   "name": "python",
   "nbconvert_exporter": "python",
   "pygments_lexer": "ipython3",
   "version": "3.11.5"
  }
 },
 "nbformat": 4,
 "nbformat_minor": 2
}
