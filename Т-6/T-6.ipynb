{
 "cells": [
  {
   "cell_type": "code",
   "execution_count": 62,
   "metadata": {},
   "outputs": [],
   "source": [
    "import numpy as np\n",
    "import math\n",
    "import random\n",
    "%matplotlib inline"
   ]
  },
  {
   "cell_type": "markdown",
   "metadata": {},
   "source": [
    "## d) Сгенерировать выборку объема n = 100 для некоторого значения параметра teta. Вычислите указанные выше доверительные интервалы для доверительной вероятности 0.95"
   ]
  },
  {
   "cell_type": "code",
   "execution_count": 63,
   "metadata": {},
   "outputs": [],
   "source": [
    "def transform_values(random_values, theta):\n",
    "    return [(1 - x) ** (1 / (1 - theta)) for x in random_values]\n",
    "\n",
    "\n",
    "sample_size = 1000\n",
    "theta_value = 5\n",
    "np.random.seed(32)\n",
    "\n",
    "samples_list = np.random.uniform(0, 1, sample_size)\n",
    "\n",
    "data = transform_values(samples_list, theta_value)\n",
    "\n",
    "sorted_data = np.sort(data)"
   ]
  },
  {
   "cell_type": "code",
   "execution_count": 64,
   "metadata": {},
   "outputs": [
    {
     "name": "stdout",
     "output_type": "stream",
     "text": [
      "Левая граница: 1.15154\n",
      "Правая граница: 1.23395\n",
      "Доверительный интервал: 0.08241\n"
     ]
    }
   ],
   "source": [
    "teta = sample_size / np.sum(np.log(data)) + 1\n",
    "\n",
    "left_border = round((-(1.96 * np.log(2) * (2 ** (1 / (teta - 1)))) / (teta - 1) / 10 + 2 ** (1 / (teta -1))), 5)\n",
    "right_border = round((1.96 * np.log(2) * (2 ** (1 / (teta - 1)))) / (teta - 1) / 10 + 2 ** (1 / (teta -1)), 5)\n",
    "\n",
    "trust_interval = round(right_border - left_border, 5)\n",
    "\n",
    "print(f\"Левая граница: {left_border}\")\n",
    "print(f\"Правая граница: {right_border}\")\n",
    "print(f\"Доверительный интервал: {trust_interval}\")\n"
   ]
  },
  {
   "cell_type": "code",
   "execution_count": 65,
   "metadata": {},
   "outputs": [
    {
     "name": "stdout",
     "output_type": "stream",
     "text": [
      "Левая граница: 4.6889\n",
      "Правая граница: 5.17639\n",
      "Асимптотический доверительный интервал для медианы: 0.48749\n"
     ]
    }
   ],
   "source": [
    "left_border = round(-1.96 * (teta - 1) / np.sqrt(sample_size) + teta, 5)\n",
    "right_border = round(1.96 * (teta - 1) / np.sqrt(sample_size) + teta, 5)\n",
    "\n",
    "trust_interval = round(right_border - left_border, 5)\n",
    "\n",
    "\n",
    "print(f\"Левая граница: {left_border}\")\n",
    "print(f\"Правая граница: {right_border}\")\n",
    "print(f\"Асимптотический доверительный интервал для медианы: {trust_interval}\")"
   ]
  },
  {
   "cell_type": "markdown",
   "metadata": {},
   "source": [
    "## e) Численно постройте бутстраповский доверительный интервал двумя способами, используя параметрический бутстрап и непараметрический бутстрап"
   ]
  },
  {
   "cell_type": "code",
   "execution_count": 66,
   "metadata": {},
   "outputs": [
    {
     "name": "stdout",
     "output_type": "stream",
     "text": [
      "Левая граница: -0.23341\n",
      "Правая граница: 0.17043\n",
      "Бутстраповский параметрический доверительный интервал: 0.40384\n"
     ]
    }
   ],
   "source": [
    "\n",
    "def culc_estimate(X, N):\n",
    "    return 1 + N / sum([np.log(x) for x in X])\n",
    "\n",
    "\n",
    "a = 0.05\n",
    "sample_size = 100  \n",
    "teta = 3 \n",
    "\n",
    "sorted_data = np.sort(np.array([culc_estimate(np.random.sample(sample_size), sample_size) for i in range(10000)]))\n",
    "\n",
    "left_border = sorted_data[int(a / 2 * 10000)]\n",
    "right_border = sorted_data[int((1 - a / 2) * 10000)]\n",
    "trust_interval = right_border - left_border\n",
    "\n",
    "print(f\"Левая граница: {round(left_border, 5)}\")\n",
    "print(f\"Правая граница: {round(right_border, 5)}\")\n",
    "print(f\"Бутстраповский параметрический доверительный интервал: {round(trust_interval, 5)}\")"
   ]
  },
  {
   "cell_type": "code",
   "execution_count": null,
   "metadata": {},
   "outputs": [
    {
     "name": "stdout",
     "output_type": "stream",
     "text": [
      "Левая граница: 4.00899\n",
      "Правая граница: 4.08124\n",
      "Бутстраповский непараметрический доверительный интервал: 0.07225\n"
     ]
    }
   ],
   "source": [
    "data1 = np.array([])\n",
    "for i in range(1000):\n",
    "    data1 = np.append(data1, sample_size / np.sum(np.log((np.random.choice(data, size = len(data))))) + 1 - teta)\n",
    "\n",
    "sorted_data = np.sort(data1)\n",
    "\n",
    "left_border = round(teta + sorted_data[74], 5)\n",
    "right_border = round(teta + sorted_data[974], 5)\n",
    "trust_interval = round(right_border - left_border, 5)\n",
    "\n",
    "print(f\"Левая граница: {round(left_border, 5)}\")\n",
    "print(f\"Правая граница: {round(right_border, 5)}\")\n",
    "print(f\"Бутстраповский непараметрический доверительный интервал: {round(trust_interval, 5)}\")"
   ]
  },
  {
   "cell_type": "markdown",
   "metadata": {},
   "source": [
    "## f) Сравнить все интервалы"
   ]
  },
  {
   "cell_type": "markdown",
   "metadata": {},
   "source": [
    "#### Самый большой доверительный интервал наблюдается у непараметрического бутстрапа, самый маленький - у интервала, полученного ОМП"
   ]
  }
 ],
 "metadata": {
  "kernelspec": {
   "display_name": "Python 3",
   "language": "python",
   "name": "python3"
  },
  "language_info": {
   "codemirror_mode": {
    "name": "ipython",
    "version": 3
   },
   "file_extension": ".py",
   "mimetype": "text/x-python",
   "name": "python",
   "nbconvert_exporter": "python",
   "pygments_lexer": "ipython3",
   "version": "3.11.5"
  }
 },
 "nbformat": 4,
 "nbformat_minor": 2
}
