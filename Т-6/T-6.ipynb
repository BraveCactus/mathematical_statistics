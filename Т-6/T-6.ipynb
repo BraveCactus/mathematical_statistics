{
 "cells": [
  {
   "cell_type": "code",
   "execution_count": 10,
   "metadata": {},
   "outputs": [],
   "source": [
    "import numpy as np\n",
    "import math\n",
    "import random\n",
    "%matplotlib inline"
   ]
  },
  {
   "cell_type": "markdown",
   "metadata": {},
   "source": [
    "## d) Сгенерировать выборку объема n = 100 для некоторого значения параметра teta. Вычислите указанные выше доверительные интервалы для доверительной вероятности 0.95"
   ]
  },
  {
   "cell_type": "code",
   "execution_count": 11,
   "metadata": {},
   "outputs": [],
   "source": [
    "def transform_values(random_values, theta):\n",
    "    return [(1 - x) ** (1 / (1 - theta)) for x in random_values]\n",
    "\n",
    "\n",
    "sample_size = 1000\n",
    "theta_value = 5\n",
    "np.random.seed(32)\n",
    "\n",
    "samples_list = np.random.uniform(0, 1, sample_size)\n",
    "\n",
    "data = transform_values(samples_list, theta_value)\n",
    "\n",
    "sorted_data = np.sort(data)"
   ]
  },
  {
   "cell_type": "code",
   "execution_count": 12,
   "metadata": {},
   "outputs": [
    {
     "name": "stdout",
     "output_type": "stream",
     "text": [
      "Левая граница: 1.15154\n",
      "Правая граница: 1.23395\n",
      "Доверительный интервал для медианы: 0.08241\n"
     ]
    }
   ],
   "source": [
    "teta = sample_size / np.sum(np.log(data)) + 1\n",
    "\n",
    "left_border = round((-(1.96 * np.log(2) * (2 ** (1 / (teta - 1)))) / (teta - 1) / 10 + 2 ** (1 / (teta -1))), 5)\n",
    "right_border = round((1.96 * np.log(2) * (2 ** (1 / (teta - 1)))) / (teta - 1) / 10 + 2 ** (1 / (teta -1)), 5)\n",
    "\n",
    "trust_interval = round(right_border - left_border, 5)\n",
    "\n",
    "print(f\"Левая граница: {left_border}\")\n",
    "print(f\"Правая граница: {right_border}\")\n",
    "print(f\"Доверительный интервал для медианы: {trust_interval}\")\n"
   ]
  },
  {
   "cell_type": "code",
   "execution_count": 13,
   "metadata": {},
   "outputs": [
    {
     "name": "stdout",
     "output_type": "stream",
     "text": [
      "Левая граница: 4.6889\n",
      "Правая граница: 5.17639\n",
      "Асимптотический доверительный интервал для медианы: 0.48749\n"
     ]
    }
   ],
   "source": [
    "left_border = round(-1.96 * (teta - 1) / np.sqrt(sample_size) + teta, 5)\n",
    "right_border = round(1.96 * (teta - 1) / np.sqrt(sample_size) + teta, 5)\n",
    "\n",
    "trust_interval = round(right_border - left_border, 5)\n",
    "\n",
    "\n",
    "print(f\"Левая граница: {left_border}\")\n",
    "print(f\"Правая граница: {right_border}\")\n",
    "print(f\"Асимптотический доверительный интервал для медианы: {trust_interval}\")"
   ]
  },
  {
   "cell_type": "markdown",
   "metadata": {},
   "source": [
    "## e) Численно постройте бутстраповский доверительный интервал двумя способами, используя параметрический бутстрап и непараметрический бутстрап"
   ]
  },
  {
   "cell_type": "code",
   "execution_count": null,
   "metadata": {},
   "outputs": [],
   "source": []
  },
  {
   "cell_type": "markdown",
   "metadata": {},
   "source": [
    "## f) Сравнить все интервалы"
   ]
  },
  {
   "cell_type": "code",
   "execution_count": null,
   "metadata": {},
   "outputs": [],
   "source": []
  }
 ],
 "metadata": {
  "kernelspec": {
   "display_name": "Python 3",
   "language": "python",
   "name": "python3"
  },
  "language_info": {
   "codemirror_mode": {
    "name": "ipython",
    "version": 3
   },
   "file_extension": ".py",
   "mimetype": "text/x-python",
   "name": "python",
   "nbconvert_exporter": "python",
   "pygments_lexer": "ipython3",
   "version": "3.11.5"
  }
 },
 "nbformat": 4,
 "nbformat_minor": 2
}
