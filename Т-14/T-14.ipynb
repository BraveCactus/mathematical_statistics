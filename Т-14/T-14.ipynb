{
 "cells": [
  {
   "cell_type": "markdown",
   "id": "a16d010d",
   "metadata": {},
   "source": [
    "## Пусть $x_n$ и $y_m$ $-$ независимые случайные выборки из нормального распределения с параметрами $a$, $\\sigma_x^2 = 2$ и $b$, $\\sigma_y^2 = 1$ соответственно. Используя реализации случайных выборок: $x = \\{-1.11, -6.10, 2.42\\}$, $y = \\{-2.29, -2.91\\}$, проверить гипотезу о равенстве средних против альтернатив $a > b$. Построить график мощности критерия."
   ]
  },
  {
   "cell_type": "markdown",
   "id": "5281d78e",
   "metadata": {},
   "source": [
    "### $H_0$ : a = b\n",
    "### $H_1$: a > b\n",
    "\n",
    "\n",
    "### Доверительный уровень Alpha = 0.05"
   ]
  },
  {
   "cell_type": "code",
   "execution_count": null,
   "id": "8066edad",
   "metadata": {},
   "outputs": [
    {
     "name": "stdout",
     "output_type": "stream",
     "text": [
      "Доверительный интервал: (-3.01333, 5.50667)\n"
     ]
    }
   ],
   "source": [
    "import numpy as np\n",
    "import math\n",
    "import matplotlib.pyplot as plt\n",
    "from scipy.stats import norm\n",
    "\n",
    "x_arr = np.array([-1.11, -6.1, 2.42])\n",
    "y_arr = np.array([-2.29, -2.91])\n",
    "\n",
    "alptha = 0.05\n",
    "beta = 1 - alptha\n",
    "\n",
    "sigma_x_sqr = 2\n",
    "sigma_y_sqr = 1\n",
    "\n",
    "iterations = 10000\n",
    "\n",
    "h = 0\n",
    "h_wave = np.mean(x_arr) - np.mean(y_arr)\n",
    "\n",
    "delta = h_wave - h\n",
    "\n",
    "bootstrap_delta = list()\n",
    "\n",
    "for i in range(iterations):\n",
    "    bootstrap_xsubarray = np.random.choice(x_arr, len(x_arr), replace = True)\n",
    "    bootstrap_ysubarray = np.random.choice(y_arr, len(y_arr), replace = True)\n",
    "    delta_star = np.mean(bootstrap_xsubarray) - np.mean(bootstrap_ysubarray) - h_wave\n",
    "    bootstrap_delta.append(delta_star)\n",
    "\n",
    "\n",
    "variety_row = np.sort(bootstrap_delta)\n",
    "\n",
    "k1 = int(iterations * ((1 - beta)/2))\n",
    "k2 = int(iterations * ((1 + beta)/2))\n",
    "\n",
    "low_border = round(h_wave - variety_row[k2], 5)\n",
    "high_border = round(h_wave - variety_row[k1], 5)\n",
    "\n",
    "print(f\"Доверительный интервал: ({low_border}, {high_border})\")\n"
   ]
  }
 ],
 "metadata": {
  "kernelspec": {
   "display_name": "Python 3",
   "language": "python",
   "name": "python3"
  },
  "language_info": {
   "codemirror_mode": {
    "name": "ipython",
    "version": 3
   },
   "file_extension": ".py",
   "mimetype": "text/x-python",
   "name": "python",
   "nbconvert_exporter": "python",
   "pygments_lexer": "ipython3",
   "version": "3.11.5"
  }
 },
 "nbformat": 4,
 "nbformat_minor": 5
}
