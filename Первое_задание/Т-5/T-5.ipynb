{
 "cells": [
  {
   "cell_type": "markdown",
   "metadata": {},
   "source": [
    "# Т-5\n"
   ]
  },
  {
   "cell_type": "code",
   "execution_count": 300,
   "metadata": {},
   "outputs": [],
   "source": [
    "import numpy as np\n",
    "import math\n",
    "import random\n",
    "%matplotlib inline"
   ]
  },
  {
   "cell_type": "markdown",
   "metadata": {},
   "source": [
    "## f) Сгенерируйте выборку объема т = 100 для некоторого значения параметра TETA. Вычислите указанные выше доверительные иннтервалы для доверительной вероятности 0.95"
   ]
  },
  {
   "cell_type": "code",
   "execution_count": null,
   "metadata": {},
   "outputs": [],
   "source": [
    "TETA = 1\n",
    "\n",
    "def get_probability(y: float)->float:\n",
    "    return (y + 1) * TETA\n"
   ]
  },
  {
   "cell_type": "code",
   "execution_count": null,
   "metadata": {},
   "outputs": [],
   "source": [
    "data = list()\n",
    "n = 100\n",
    "\n",
    "for i in range(n):\n",
    "    y = random.random()\n",
    "    data.append(round(get_probability(y), 5))\n"
   ]
  },
  {
   "cell_type": "code",
   "execution_count": 303,
   "metadata": {},
   "outputs": [
    {
     "name": "stdout",
     "output_type": "stream",
     "text": [
      "Нижняя граница: 0.99881\n",
      "Верхняя граница: 1.0171\n",
      "Доверительный интервал: 0.01829\n"
     ]
    }
   ],
   "source": [
    "B = 0.95\n",
    "x_max = np.max(data)\n",
    "\n",
    "left_border = round(x_max/(1 + ((1 + B) / 2) ** (1 / n)), 5)\n",
    "right_border = round(x_max/(1 + ((1 - B) / 2) ** (1 / n)), 5)\n",
    "\n",
    "trust_interval = round(right_border - left_border, 5)\n",
    "\n",
    "print(f\"Нижняя граница: {left_border}\")\n",
    "print(f\"Верхняя граница: {right_border}\")\n",
    "print(f\"Доверительный интервал: {trust_interval}\")"
   ]
  },
  {
   "cell_type": "code",
   "execution_count": 304,
   "metadata": {},
   "outputs": [],
   "source": [
    "def count_s(data) -> float:\n",
    "    sum = 0\n",
    "    for x in data:\n",
    "        sum += (x - np.mean(data)) ** 2\n",
    "    s = round(np.sqrt(sum / (n-1)), 5)\n",
    "    return s"
   ]
  },
  {
   "cell_type": "code",
   "execution_count": 305,
   "metadata": {},
   "outputs": [
    {
     "name": "stdout",
     "output_type": "stream",
     "text": [
      "Нижняя граница: 0.9956962033857971\n",
      "Верхняя граница: 1.0764256632808697\n",
      "Доверительный интервал: 0.08073\n"
     ]
    }
   ],
   "source": [
    "s = count_s(data)\n",
    "teta_1 = 2 * np.mean(data) / 3\n",
    "\n",
    "left_border = teta_1 - 2 * s * 1.96 * np.sqrt(n - 1)/(3 * n)\n",
    "right_border = teta_1 + 2 * s * 1.96 * np.sqrt(n - 1)/(3 * n)\n",
    "\n",
    "trust_interval = round(right_border - left_border, 5)\n",
    "\n",
    "print(f\"Нижняя граница: {left_border}\")\n",
    "print(f\"Верхняя граница: {right_border}\")\n",
    "print(f\"Доверительный интервал: {trust_interval}\")"
   ]
  },
  {
   "cell_type": "markdown",
   "metadata": {},
   "source": [
    "## g) Численно постройте бутстраповский доверительный интервал "
   ]
  },
  {
   "cell_type": "code",
   "execution_count": 306,
   "metadata": {},
   "outputs": [
    {
     "name": "stdout",
     "output_type": "stream",
     "text": [
      "Нижняя граница: 1.00365\n",
      "Верхняя граница: 1.01616\n",
      "Доверительный интервал: 0.01251\n"
     ]
    }
   ],
   "source": [
    "def get_samples(data, samples_number):\n",
    "\n",
    "    delta_data = list()\n",
    "    for i in range(samples_number):\n",
    "        sample = np.random.choice(data, size=n)\n",
    "        delta_data.append((n + 1) * np.max(sample) / (2 * n + 1) - h)\n",
    "\n",
    "    sorted_delta_data = sorted(delta_data)\n",
    "    return sorted_delta_data\n",
    "\n",
    "samples_number = 1000 #количество итераций\n",
    "B = 0.95\n",
    "\n",
    "x_max = np.max(data)\n",
    "h = (n + 1) * x_max / (2 * n + 1)\n",
    "\n",
    "var_row = get_samples(data, samples_number)\n",
    "\n",
    "t_1 = var_row[int((1 - B) * samples_number / 2)]\n",
    "t_2 = var_row[int((1 + B) * samples_number / 2)]\n",
    "\n",
    "\n",
    "left_border = round(h - t_2, 5)\n",
    "right_border = round(h - t_1, 5)\n",
    "\n",
    "trust_interval = round(right_border - left_border, 5)\n",
    "\n",
    "print(f\"Нижняя граница: {left_border}\")\n",
    "print(f\"Верхняя граница: {right_border}\")\n",
    "print(f\"Доверительный интервал: {trust_interval}\")\n"
   ]
  },
  {
   "cell_type": "markdown",
   "metadata": {},
   "source": [
    "## h) Сравнить все интервалы "
   ]
  },
  {
   "cell_type": "markdown",
   "metadata": {},
   "source": [
    "#### Бутстраповский доверительный интервал имеет самую маленькую длину, в то время как асимптотический - наибольшую.\n",
    "#### Итог: Бутстраповский доверительный интервал < Точный доверительный интервал < Асимптотический доверительный интервал"
   ]
  }
 ],
 "metadata": {
  "kernelspec": {
   "display_name": "Python 3",
   "language": "python",
   "name": "python3"
  },
  "language_info": {
   "codemirror_mode": {
    "name": "ipython",
    "version": 3
   },
   "file_extension": ".py",
   "mimetype": "text/x-python",
   "name": "python",
   "nbconvert_exporter": "python",
   "pygments_lexer": "ipython3",
   "version": "3.11.5"
  }
 },
 "nbformat": 4,
 "nbformat_minor": 2
}
