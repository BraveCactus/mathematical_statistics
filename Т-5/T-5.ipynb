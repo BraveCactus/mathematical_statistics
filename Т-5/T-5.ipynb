{
 "cells": [
  {
   "cell_type": "code",
   "execution_count": 6,
   "metadata": {},
   "outputs": [],
   "source": [
    "import numpy as np\n",
    "import matplotlib.pyplot as plt\n",
    "import scipy as sp\n",
    "from scipy import stats\n",
    "from collections import Counter\n",
    "import math\n",
    "import statistics\n",
    "from scipy.stats import norm\n",
    "import pandas as pd\n",
    "import random\n",
    "%matplotlib inline"
   ]
  },
  {
   "cell_type": "code",
   "execution_count": 7,
   "metadata": {},
   "outputs": [],
   "source": [
    "TETA = 1\n",
    "\n",
    "def distr_density(x: float)->float:\n",
    "    #Плотность распределения\n",
    "    if(x >= TETA & x <= 2 * TETA):\n",
    "        return 1 / TETA\n",
    "    else:\n",
    "        return 0\n",
    "    \n",
    "def distr_function(x: float)->float:\n",
    "    #Функция распределения\n",
    "    if(x >= TETA & x <= 2 * TETA):\n",
    "        return x/TETA - 1\n",
    "    else:\n",
    "        return 0\n",
    "    \n",
    "def get_probability(y: float)->float:\n",
    "    return (y + 1) * TETA\n",
    "\n",
    "\n"
   ]
  },
  {
   "cell_type": "code",
   "execution_count": 8,
   "metadata": {},
   "outputs": [],
   "source": [
    "data = list()\n",
    "n = 100\n",
    "\n",
    "for i in range(n):\n",
    "    y = random.random()\n",
    "    data.append(round(get_probability(y), 3))\n"
   ]
  },
  {
   "cell_type": "code",
   "execution_count": 9,
   "metadata": {},
   "outputs": [
    {
     "name": "stdout",
     "output_type": "stream",
     "text": [
      "[1.844, 1.062, 1.136, 1.848, 1.455, 1.24, 1.444, 1.459, 1.553, 1.831, 1.044, 1.509, 1.256, 1.591, 1.747, 1.099, 1.435, 1.865, 1.155, 1.267, 1.697, 1.166, 1.933, 1.841, 1.206, 1.936, 1.18, 1.995, 1.73, 1.347, 1.531, 1.643, 1.716, 1.274, 1.625, 1.717, 1.149, 1.225, 1.017, 1.646, 1.501, 1.983, 1.821, 1.358, 1.581, 1.55, 1.975, 1.142, 1.403, 1.214, 1.858, 1.663, 1.012, 1.925, 1.272, 1.079, 1.179, 1.593, 1.814, 1.005, 1.656, 1.898, 1.623, 1.796, 1.077, 1.606, 1.094, 1.674, 1.377, 1.672, 1.638, 1.809, 1.913, 1.21, 1.79, 1.139, 1.921, 1.35, 1.438, 1.054, 1.53, 1.487, 1.821, 1.756, 1.571, 1.042, 1.271, 1.001, 1.635, 1.633, 1.709, 1.657, 1.065, 1.216, 1.914, 1.612, 1.163, 1.662, 1.974, 1.748]\n"
     ]
    }
   ],
   "source": [
    "print(data)"
   ]
  }
 ],
 "metadata": {
  "kernelspec": {
   "display_name": "Python 3",
   "language": "python",
   "name": "python3"
  },
  "language_info": {
   "codemirror_mode": {
    "name": "ipython",
    "version": 3
   },
   "file_extension": ".py",
   "mimetype": "text/x-python",
   "name": "python",
   "nbconvert_exporter": "python",
   "pygments_lexer": "ipython3",
   "version": "3.11.5"
  }
 },
 "nbformat": 4,
 "nbformat_minor": 2
}
