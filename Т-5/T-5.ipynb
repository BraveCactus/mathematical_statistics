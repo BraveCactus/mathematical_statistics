{
 "cells": [
  {
   "cell_type": "markdown",
   "metadata": {},
   "source": [
    "# Т-5\n"
   ]
  },
  {
   "cell_type": "code",
   "execution_count": 67,
   "metadata": {},
   "outputs": [],
   "source": [
    "import numpy as np\n",
    "import matplotlib.pyplot as plt\n",
    "import scipy as sp\n",
    "from scipy import stats\n",
    "from collections import Counter\n",
    "import math\n",
    "import statistics\n",
    "from scipy.stats import norm\n",
    "import pandas as pd\n",
    "import random\n",
    "%matplotlib inline"
   ]
  },
  {
   "cell_type": "markdown",
   "metadata": {},
   "source": [
    "## f) Сгенерируйте выборку объема т = 100 для некоторого значения параметра TETA. Вычислите указанные выше доверительные иннтервалы для доверительной вероятности 0.95"
   ]
  },
  {
   "cell_type": "code",
   "execution_count": 68,
   "metadata": {},
   "outputs": [],
   "source": [
    "TETA = 1\n",
    "\n",
    "def distr_density(x: float)->float:\n",
    "    #Плотность распределения\n",
    "    if(x >= TETA & x <= 2 * TETA):\n",
    "        return 1 / TETA\n",
    "    else:\n",
    "        return 0\n",
    "    \n",
    "def distr_function(x: float)->float:\n",
    "    #Функция распределения\n",
    "    if(x >= TETA & x <= 2 * TETA):\n",
    "        return x/TETA - 1\n",
    "    else:\n",
    "        return 0\n",
    "    \n",
    "def get_probability(y: float)->float:\n",
    "    return (y + 1) * TETA\n",
    "\n",
    "\n"
   ]
  },
  {
   "cell_type": "code",
   "execution_count": 69,
   "metadata": {},
   "outputs": [],
   "source": [
    "data = list()\n",
    "n = 100\n",
    "\n",
    "for i in range(n):\n",
    "    y = random.random()\n",
    "    data.append(round(get_probability(y), 5))\n",
    "\n",
    "\n"
   ]
  },
  {
   "cell_type": "code",
   "execution_count": null,
   "metadata": {},
   "outputs": [
    {
     "name": "stdout",
     "output_type": "stream",
     "text": [
      "Нижняя граница: 0.99804\n",
      "Верхняя граница: 1.01632\n",
      "Доветительный интервал: 0.01828\n"
     ]
    }
   ],
   "source": [
    "B = 0.95\n",
    "x_max = np.max(data)\n",
    "\n",
    "left_border = round(x_max/(1 + ((1 + B) / 2) ** (1 / n)), 5)\n",
    "right_border = round(x_max/(1 + ((1 - B) / 2) ** (1 / n)), 5)\n",
    "\n",
    "trust_interval = round(right_border - left_border, 5)\n",
    "\n",
    "print(f\"Нижняя граница: {left_border}\")\n",
    "print(f\"Верхняя граница: {right_border}\")\n",
    "print(f\"Доверительный интервал: {trust_interval}\")"
   ]
  }
 ],
 "metadata": {
  "kernelspec": {
   "display_name": "Python 3",
   "language": "python",
   "name": "python3"
  },
  "language_info": {
   "codemirror_mode": {
    "name": "ipython",
    "version": 3
   },
   "file_extension": ".py",
   "mimetype": "text/x-python",
   "name": "python",
   "nbconvert_exporter": "python",
   "pygments_lexer": "ipython3",
   "version": "3.11.5"
  }
 },
 "nbformat": 4,
 "nbformat_minor": 2
}
