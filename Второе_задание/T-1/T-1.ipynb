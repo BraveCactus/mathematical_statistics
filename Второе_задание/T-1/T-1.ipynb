{
 "cells": [
  {
   "cell_type": "markdown",
   "id": "4ff29d08",
   "metadata": {},
   "source": [
    "# Т-1"
   ]
  },
  {
   "cell_type": "markdown",
   "id": "68b0ef22",
   "metadata": {},
   "source": [
    "## Случайный вектор $(\\xi_1, \\xi_2, \\xi_3, \\xi_4, \\xi_5, \\eta)$ имеет компоненты, распределенные по следующему закону: $\\xi_k \\sim R(-1,1)$, $\\eta \\sim N(2 + 3x_1 - 2x_2 + x_3 + x_4 - x_5, 1.5^2)$, где $x_k$ это значения, которые принимает случайная величина $\\xi_k$. Сгенерировать выборку объема $(n = 50)"
   ]
  },
  {
   "cell_type": "code",
   "execution_count": 1251,
   "id": "91c6e7ea",
   "metadata": {},
   "outputs": [],
   "source": [
    "import numpy as np\n",
    "import pandas as pd\n",
    "from scipy import stats\n",
    "import statsmodels.api as sm\n",
    "from scipy import stats\n",
    "from scipy.stats import t\n",
    "from scipy.stats import f\n",
    "from scipy.stats import rankdata, norm\n",
    "from statsmodels.stats.diagnostic import lilliefors\n",
    "import matplotlib.pyplot as plt"
   ]
  },
  {
   "cell_type": "code",
   "execution_count": 1252,
   "id": "13398636",
   "metadata": {},
   "outputs": [],
   "source": [
    "# Генерация выборки\n",
    "np.random.seed(19)\n",
    "n = 50\n",
    "sigma = 1.5\n",
    "p = 6\n",
    "df = n - 6\n",
    "\n",
    "# Генерация xi_k ~ R(-1, 1)\n",
    "xi = np.random.uniform(-1, 1, size = (n, 5))\n",
    "xi1 = xi[:, 0] \n",
    "xi2 = xi[:, 1]\n",
    "xi3 = xi[:, 2]\n",
    "xi4 = xi[:, 3]\n",
    "xi5 = xi[:, 4]\n",
    "\n",
    "# Генерация eta ~ N(2 + 3x1 - 2x2 + x3 + x4 - x5, 1.5^2)\n",
    "betas = np.array([2, 3, -2, 1, 1, -1])\n",
    "psi = np.column_stack([np.ones(n), xi]) # Наша матрица пси_большое\n",
    "eta_mean = 2 + 3*xi1 - 2*xi2 + xi3 + xi4 - xi5\n",
    "eta = np.random.normal(eta_mean, sigma, n)\n",
    "\n",
    "data = pd.DataFrame(xi, columns=[f'xi_{k+1}' for k in range(5)])\n",
    "data['eta'] = eta\n",
    "data = data.round(3)\n"
   ]
  },
  {
   "cell_type": "markdown",
   "id": "86793668",
   "metadata": {},
   "source": [
    "### a) Проверить переменные \\($\\xi_k$\\) на мультиколлинеарность."
   ]
  },
  {
   "cell_type": "code",
   "execution_count": 1253,
   "id": "4ec6a25c",
   "metadata": {},
   "outputs": [
    {
     "name": "stdout",
     "output_type": "stream",
     "text": [
      "R² для xi_1 на остальные переменные: 0.053\n",
      "R² для xi_2 на остальные переменные: 0.027\n",
      "R² для xi_3 на остальные переменные: 0.055\n",
      "R² для xi_4 на остальные переменные: 0.058\n",
      "R² для xi_5 на остальные переменные: 0.049\n"
     ]
    }
   ],
   "source": [
    "#a) Проверка на мультиколлинеарность\n",
    "def rss(y_true, y_pred):\n",
    "    return np.sum((y_true - y_pred) ** 2)\n",
    "\n",
    "def tss(y_true):\n",
    "    return np.sum((y_true - np.mean(y_true)) ** 2)\n",
    "\n",
    "def r_squared(y_true, y_pred):\n",
    "    return np.abs(1 - (rss(y_true, y_pred) / tss(y_true)))\n",
    "\n",
    "X = data[[\"xi_1\", \"xi_2\", \"xi_3\", \"xi_4\", \"xi_5\"]]\n",
    "\n",
    "for k in range(1, 6):\n",
    "    target = X[f\"xi_{k}\"]\n",
    "    features = X.drop(f\"xi_{k}\", axis=1)    \n",
    "   \n",
    "    features_with_const = sm.add_constant(features) #добавляем столбец единиц\n",
    "    \n",
    "    # Строим регрессию\n",
    "    model = sm.OLS(target, features_with_const).fit()\n",
    "    \n",
    "    print(f\"R² для xi_{k} на остальные переменные: {model.rsquared:.3f}\")"
   ]
  },
  {
   "cell_type": "markdown",
   "id": "a13e8d49",
   "metadata": {},
   "source": [
    "### b) Определить уравнение линейной регрессии: $\\eta = \\beta_0 + \\sum_{k=1}^5 \\beta_k \\xi_k$ и проверить значимость коэффициентов."
   ]
  },
  {
   "cell_type": "code",
   "execution_count": 1254,
   "id": "4c42a2bb",
   "metadata": {},
   "outputs": [
    {
     "name": "stdout",
     "output_type": "stream",
     "text": [
      "Params:\n",
      "const    2.189488\n",
      "xi_1     3.151650\n",
      "xi_2    -1.305915\n",
      "xi_3     1.059006\n",
      "xi_4     1.303048\n",
      "xi_5    -0.497267\n",
      "dtype: float64\n",
      "\n",
      "RSS: 81.24833708302756\n",
      "p-values для коэффициентов: [4.57151312e-19 8.57728238e-04 3.99803199e-03 4.22413574e-04\n",
      " 1.24843326e-01]\n",
      "параметр xi_1 значим\n",
      "параметр xi_2 значим\n",
      "параметр xi_3 значим\n",
      "параметр xi_4 значим\n",
      "параметр xi_5  не значим\n"
     ]
    }
   ],
   "source": [
    "PSI = sm.add_constant(X)\n",
    "\n",
    "# Регрессия η\n",
    "model = sm.OLS(data['eta'], PSI).fit()\n",
    "print(f\"Params:\\n{model.params}\\n\")\n",
    "\n",
    "F = PSI.T @ PSI\n",
    "F_inv = np.linalg.inv(F) #Получили матрицу Фишера\n",
    "\n",
    "RSS = model.ssr\n",
    "print(f'RSS: {RSS}')\n",
    "\n",
    "# Проверка значимости коэфф. регрессии\n",
    "labels = ['xi_1', 'xi_2', 'xi_3', 'xi_4', 'xi_5']\n",
    "\n",
    "pValues_list = list()\n",
    "\n",
    "sign_df = pd.DataFrame(columns = [\"Параметр\", \"Дельта\", \"P-value\", \"Итог\"])\n",
    "for k in range(len(labels)):\n",
    "    delta = model.params[labels[k]] * np.sqrt(df) / np.sqrt(RSS * F_inv[k][k])\n",
    "    p_value = 2 * t.cdf(-np.abs(delta), df)\n",
    "    pValues_list.append(p_value)    \n",
    "    \n",
    "\n",
    "pValues = np.array(pValues_list)\n",
    "print(f\"p-values для коэффициентов: {pValues}\")\n",
    "for i in range(1,len(pValues)+1):\n",
    "    if(pValues[i-1] < 0.05):\n",
    "        print(f\"параметр xi_{i} значим\")\n",
    "        continue    \n",
    "    print(f\"параметр xi_{i}  не значим\")\n"
   ]
  },
  {
   "cell_type": "markdown",
   "id": "a4c12bb0",
   "metadata": {},
   "source": [
    "### c) Определить коэффициент детерминации и проверить его значимость.\n",
    "\n",
    "$$\n",
    "\\Delta \\sim F(5, 44)\n",
    "$$"
   ]
  },
  {
   "cell_type": "code",
   "execution_count": 1255,
   "id": "c10978b6",
   "metadata": {},
   "outputs": [
    {
     "name": "stdout",
     "output_type": "stream",
     "text": [
      "Коэффициент детерминации: 0.7300629466621604\n",
      "TSS: 300.98993850000005\n",
      "RSS: 81.24833708302756\n",
      "delta: 23.8002\n",
      "p-value: 1.656446455631446e-11\n",
      "Регрессия значима\n"
     ]
    }
   ],
   "source": [
    "#c) Определить коэффициент детерминации и проверить его значимость\n",
    "\n",
    "print(f'Коэффициент детерминации: {model.rsquared}')\n",
    "\n",
    "TSS = model.centered_tss\n",
    "\n",
    "delta = (TSS - RSS) * (df) / (RSS * (n - df - 1))\n",
    "p_value = f.sf(delta, n - df - 1, df)\n",
    "print(f'TSS: {TSS}')\n",
    "print(f'RSS: {RSS}')\n",
    "print(f'delta: {delta:.4f}')  \n",
    "print(f'p-value: {p_value}')\n",
    "if(p_value < 0.05):\n",
    "    print(\"Регрессия значима\")\n",
    "else:\n",
    "    print(\"Регрессия не значима\")"
   ]
  },
  {
   "cell_type": "markdown",
   "id": "c46b7432",
   "metadata": {},
   "source": [
    "### d) Найти значение в точке \\($x_k$ = 0\\) и построить 95% доверительный интервал."
   ]
  },
  {
   "cell_type": "code",
   "execution_count": 1256,
   "id": "39cc68a0",
   "metadata": {},
   "outputs": [
    {
     "name": "stdout",
     "output_type": "stream",
     "text": [
      "2.189487843151286\n",
      "Доверительный интервал: (-0.5811, 4.9601)\n"
     ]
    }
   ],
   "source": [
    "y_tilda = model.params['const']\n",
    "\n",
    "print(y_tilda)\n",
    "\n",
    "X_0 = np.array([1, 0, 0, 0, 0, 0])\n",
    "\n",
    "delta = t.ppf(1 - 0.05/2, df) * np.sqrt(1 + X_0 @ F_inv @ X_0.T) * np.sqrt(RSS/df)\n",
    "\n",
    "print(f'Доверительный интервал: ({round(y_tilda - delta, 4)}, {round(y_tilda + delta, 4)})')\n"
   ]
  },
  {
   "cell_type": "markdown",
   "id": "2bd86a58",
   "metadata": {},
   "source": [
    "### e) Проверить предположение о независимости ошибок измерения.\n",
    "\n",
    "$H_0$: Ошибки измерения независимы и одинаковы распределены\n",
    "\n",
    "$H_1: \\overline H_0$"
   ]
  },
  {
   "cell_type": "code",
   "execution_count": 1257,
   "id": "6ffc57e4",
   "metadata": {},
   "outputs": [
    {
     "name": "stdout",
     "output_type": "stream",
     "text": [
      "Дельта: 0.6363961030678927\n",
      "P-value: 0.5245182802130763\n",
      "Нет оснований отвергнуть H0\n"
     ]
    }
   ],
   "source": [
    "e = model.resid\n",
    "\n",
    "def count_inversions(arr):\n",
    "    ranks = rankdata(arr, method='average')  # Преобразуем в ранги\n",
    "    inv_count = 0\n",
    "    for i in range(len(ranks)):\n",
    "        inv_count += np.sum(ranks[i+1:] < ranks[i])  # Считаем инверсии\n",
    "    return int(inv_count)\n",
    "\n",
    "delta = (count_inversions(e) - n * (n - 1) / 4) / np.sqrt((n ** 3) / 36)\n",
    "p_value = 2*norm.sf(np.abs(delta), 0, 1)\n",
    "print(f'Дельта: {delta}')  \n",
    "print(f'P-value: {p_value}')\n",
    "\n",
    "if(p_value < 0.05):\n",
    "    print(\"Отвергаем H0\")\n",
    "else:\n",
    "    print(\"Нет оснований отвергнуть H0\")\n"
   ]
  },
  {
   "cell_type": "markdown",
   "id": "e4899e06",
   "metadata": {},
   "source": [
    "\n",
    "### f) Проверить предположение о нормальности распределения ошибок.\n",
    "\n",
    "$H_0$: Ошибки измерения нормально распределены $$ e_i \\sim \\mathcal{N}(0, \\sigma^2) $$\n",
    "\n",
    "\n",
    "$H_1: \\overline H_0$"
   ]
  },
  {
   "cell_type": "code",
   "execution_count": 1258,
   "id": "51ee03b9",
   "metadata": {},
   "outputs": [
    {
     "name": "stdout",
     "output_type": "stream",
     "text": [
      "Дельта: 0.10979751537403759\n",
      "P-value: 0.1437212636954675\n",
      "Нет оснований отвергнуть H0\n"
     ]
    }
   ],
   "source": [
    "delta, p_value = lilliefors(e)\n",
    "print(f'Дельта: {delta}')\n",
    "print(f'P-value: {p_value}')\n",
    "\n",
    "if(p_value < 0.05):\n",
    "    print(\"Отвергаем H0\")\n",
    "else:\n",
    "    print(\"Нет оснований отвергнуть H0\")"
   ]
  },
  {
   "cell_type": "markdown",
   "id": "575352a8",
   "metadata": {},
   "source": [
    "### g) Исследовать регрессию на выбросы."
   ]
  },
  {
   "cell_type": "code",
   "execution_count": 1259,
   "id": "6fa51d9e",
   "metadata": {},
   "outputs": [
    {
     "data": {
      "image/png": "[encoded data removed]",
      "text/plain": [
       "<Figure size 640x480 with 1 Axes>"
      ]
     },
     "metadata": {},
     "output_type": "display_data"
    }
   ],
   "source": [
    "fig, ax = plt.subplots()\n",
    "ax.boxplot(e, vert=False, patch_artist=True, showfliers=True)\n",
    "ax.set_title('Boxplot')\n",
    "ax.axis('on')\n",
    "ax.grid()\n",
    "plt.show()"
   ]
  },
  {
   "cell_type": "markdown",
   "id": "1e6c2fa2",
   "metadata": {},
   "source": [
    "### h) Провести кросс-проверку регрессии."
   ]
  },
  {
   "cell_type": "code",
   "execution_count": 1260,
   "id": "45d71849",
   "metadata": {},
   "outputs": [
    {
     "name": "stdout",
     "output_type": "stream",
     "text": [
      "CVSS: 359.361\n",
      "R² кросс-валидации: 0.1939\n"
     ]
    }
   ],
   "source": [
    "CVSS = 0\n",
    "for i in range(n):\n",
    "    train_x = sm.add_constant(data.drop(i))[labels] # матрица признаков без i-того наблюдения\n",
    "    train_y= sm.add_constant(data.drop(i)).eta # переменная eta без i-того наблюдения\n",
    "\n",
    "    test_x = (sm.add_constant(data)[labels]).iloc[i] # i-тое наблюдение (признаки + константа).\n",
    "    test_y = (sm.add_constant(data).eta).iloc[i] #  истинное значение eta для i-того наблюдения\n",
    "\n",
    "    model_n = sm.OLS(train_y, train_x).fit()\n",
    "    y_wave = model_n.params.dot(test_x)\n",
    "\n",
    "    CVSS += (y_wave - test_y) ** 2\n",
    "\n",
    "print(f'CVSS: {round(CVSS, 3)}')\n",
    "print(f'R² кросс-валидации: {round(np.abs(model.centered_tss - CVSS) / model.centered_tss, 4)}')"
   ]
  },
  {
   "cell_type": "markdown",
   "id": "5b924bec",
   "metadata": {},
   "source": [
    "### i) Проверить адекватность регрессии, сделав 5 повторных измерений в одной точке.\n",
    "\n",
    "$$\n",
    "\\tilde{\\sigma}_1^2 = \\frac{\\sum_{i=1}^{n}{(y_i - \\overline y)^2}}{l - 1}\n",
    "$$\n",
    "\n",
    "$$\n",
    "\\Delta \\sim F(n - p, l - 1)\n",
    "$$"
   ]
  },
  {
   "cell_type": "code",
   "execution_count": 1261,
   "id": "baf02246",
   "metadata": {},
   "outputs": [
    {
     "name": "stdout",
     "output_type": "stream",
     "text": [
      "Дельта: 0.7935\n",
      "p-value: 0.7\n",
      "Модель адекватна\n"
     ]
    }
   ],
   "source": [
    "point = [1, 0, 0, 0, 0, 0]\n",
    "N = 5\n",
    "eta_one_point = np.random.normal(2, 1.5, N)\n",
    "\n",
    "y_mean = np.mean(eta_one_point)\n",
    "sigma_tilda = np.sum((eta_one_point - y_mean) ** 2) / (N - 1)\n",
    "\n",
    "delta = round(RSS / (df * sigma_tilda), 4)\n",
    "p_value = round(f.sf(delta, df, N - 1), 4)\n",
    "print(f'Дельта: {delta}')\n",
    "print(f'p-value: {p_value}')\n",
    "if(p_value > 0.05):\n",
    "    print(\"Модель адекватна\")\n",
    "else:\n",
    "    print(\"Модель не адекватна\")\n"
   ]
  },
  {
   "cell_type": "markdown",
   "id": "ab14b71e",
   "metadata": {},
   "source": [
    "### j) Удалить переменную, соответствующую наименее значимому коэфициенту и повторить пункты b и с, сравнить уравнения регрессии."
   ]
  },
  {
   "cell_type": "code",
   "execution_count": 1262,
   "id": "e2278af7",
   "metadata": {},
   "outputs": [
    {
     "name": "stdout",
     "output_type": "stream",
     "text": [
      "Params:\n",
      "const    2.167960\n",
      "xi_1     3.155124\n",
      "xi_2    -1.260944\n",
      "xi_3     1.003794\n",
      "xi_4     1.230672\n",
      "dtype: float64\n",
      "\n",
      "RSS: 85.3513\n",
      "\n",
      "  Параметр     Дельта       P-value             Итог\n",
      "0     xi_1  10.305077  2.011490e-13  Параметр значим\n",
      "1     xi_2   8.529394  5.923143e-11  Параметр значим\n",
      "2     xi_3  -3.582445  8.317793e-04  Параметр значим\n",
      "3     xi_4   2.916327  5.506159e-03  Параметр значим\n",
      "4     xi_5   3.866017  3.529624e-04  Параметр значим\n"
     ]
    }
   ],
   "source": [
    "# xi_5 наименее значимый, т. к. самый маленький коэффициент\n",
    "X_dim = data[['xi_1', 'xi_2', 'xi_3', 'xi_4']]\n",
    "k = -1\n",
    "\n",
    "PSI_dim = sm.add_constant(X_dim)\n",
    "\n",
    "model_dim = sm.OLS(data['eta'], PSI_dim).fit()\n",
    "print(f\"Params:\\n{model_dim.params}\\n\")\n",
    "\n",
    "F_dim = PSI_dim.T @ PSI_dim\n",
    "F_inv_dim = np.linalg.inv(F_dim)\n",
    "\n",
    "RSS_dim = model_dim.ssr\n",
    "print(f'RSS: {RSS_dim:.4f}\\n')\n",
    "\n",
    "labels_dim = ['const', 'xi_1', 'xi_2', 'xi_3', 'xi_4']\n",
    "\n",
    "sign_df = pd.DataFrame(columns = [\"Параметр\", \"Дельта\", \"P-value\", \"Итог\"])\n",
    "for k in range(0, len(labels_dim)):\n",
    "    delta = model_dim.params[labels_dim[k]] * np.sqrt(model_dim.df_resid) / np.sqrt(RSS_dim * F_inv_dim[k][k])\n",
    "    p_value = 2 * t.cdf(-np.abs(delta), model_dim.df_resid)\n",
    "    if (p_value < 0.05):\n",
    "        sign_df.loc[k] = [labels[k], delta, p_value, 'Параметр значим']\n",
    "    else:\n",
    "        sign_df.loc[k] = [labels[k], delta, p_value, 'Параметр незначим']\n",
    "\n",
    "print(sign_df)"
   ]
  },
  {
   "cell_type": "markdown",
   "id": "b0dbd206",
   "metadata": {},
   "source": [
    "### k. Сравнить уравнения регрессии бутстрапом."
   ]
  },
  {
   "cell_type": "code",
   "execution_count": 1263,
   "id": "721281ee",
   "metadata": {},
   "outputs": [
    {
     "name": "stdout",
     "output_type": "stream",
     "text": [
      "Доверительный интервал: (0.23274284046444604, 0.4719827078905581), длина: 0.23923986742611203\n",
      "Различие значимо\n"
     ]
    }
   ],
   "source": [
    "# Количество повторений бутстрапа\n",
    "n_iterations = 1000\n",
    "beta = 0.95\n",
    "\n",
    "# Оценка полученная ОМП\n",
    "h_wave = model.rsquared - model_dim.rsquared\n",
    "bootstrap_delta = []\n",
    "\n",
    "for _ in range(n_iterations):\n",
    "    sample = sm.add_constant(data.sample(n=n, replace=True))\n",
    "    b_model = sm.OLS(sample.eta, sample[labels]).fit()\n",
    "    b_model_dim = sm.OLS(sample.eta, sample[labels_dim]).fit()\n",
    "    bootstrap_delta.append(b_model.rsquared - b_model_dim.rsquared - h_wave)\n",
    "\n",
    "variation_row = sorted(bootstrap_delta)\n",
    "\n",
    "t = variation_row[int((1 - beta) * n_iterations)]\n",
    "\n",
    "lower_bound = (h_wave - variation_row[-1])*k\n",
    "upper_bound = h_wave - t\n",
    "\n",
    "print(f'Доверительный интервал: ({lower_bound}, {upper_bound}), длина: {upper_bound - lower_bound}')\n",
    "if (lower_bound * upper_bound > 0):\n",
    "    print('Различие значимо')\n",
    "else:\n",
    "    print('Различие незначимо')"
   ]
  }
 ],
 "metadata": {
  "kernelspec": {
   "display_name": "Python 3",
   "language": "python",
   "name": "python3"
  },
  "language_info": {
   "codemirror_mode": {
    "name": "ipython",
    "version": 3
   },
   "file_extension": ".py",
   "mimetype": "text/x-python",
   "name": "python",
   "nbconvert_exporter": "python",
   "pygments_lexer": "ipython3",
   "version": "3.11.5"
  }
 },
 "nbformat": 4,
 "nbformat_minor": 5
}
